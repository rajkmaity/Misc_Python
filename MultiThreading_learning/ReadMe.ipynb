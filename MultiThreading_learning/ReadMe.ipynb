{
 "cells": [
  {
   "cell_type": "markdown",
   "metadata": {},
   "source": [
    "The idea for the multi threading is to do parallel operations with shared memory."
   ]
  },
  {
   "cell_type": "markdown",
   "metadata": {},
   "source": [
    "### 1_thread_start_join.py\n",
    "```(python, eval= False)\n",
    "Def foo(args):\n",
    "    do something\n",
    "\n",
    "th = threading.Thread(foo, (args))\n",
    "th.start()\n",
    "th.join()\n",
    "```\n",
    "\n",
    "- Start the thread with function and args\n",
    "- start the thread\n",
    "- join the thread\n",
    "Finish the work"
   ]
  },
  {
   "cell_type": "markdown",
   "metadata": {},
   "source": [
    "### 2_thread_class.py\n",
    "Same as before.. with class it can be better organized."
   ]
  },
  {
   "cell_type": "markdown",
   "metadata": {},
   "source": [
    "### 3_thread_lock.py\n",
    "```(python, eval=False)\n",
    "lock = threading.Lock()\n",
    "```\n",
    "With the lock it ensures that at a time only one thread is causing the update. Invoke the lock when using:\n",
    "\n",
    "```(python, eval= False)\n",
    "def increment_counter(name):\n",
    "    global counter\n",
    "    for _ in range(10):\n",
    "        with lock:\n",
    "```\n"
   ]
  },
  {
   "cell_type": "markdown",
   "metadata": {},
   "source": [
    "### 4_thread_semaphore.py\n",
    "Semaphore controls the number of parallelism.\n",
    "\n",
    "```(python, eval=False)\n",
    "semaphore = threading.Semaphore(2)\n",
    "\n",
    "with semaphore:\n",
    "    ....\n",
    "```\n",
    "In the above example at a time at most 2 tasks in parallel."
   ]
  },
  {
   "cell_type": "markdown",
   "metadata": {},
   "source": [
    "### 5_thread_queue.py\n",
    "\n",
    "- Start a queue.\n",
    "- Have a producer and a consumer. \n",
    "- Producer put items in the queue.\n",
    "- Consumer checks for the items in the queue and execute the tasks.\n",
    "\n",
    "```(python, eval = False)\n",
    "def producer(q, name):\n",
    "    for i in range(5):\n",
    "        item = f\"{name}-item-{i}\"\n",
    "        q.put(item)\n",
    "def consumer(qu, name):\n",
    "    while True:\n",
    "        try:\n",
    "            item = qu.get(timeout=1)\n",
    "            qu.task_done()\n",
    "        except queue.Empty:\n",
    "            break\n",
    "q = queue.Queue()\n",
    "producer_thread = threading.Thread(target=producer, args=(q, \"Producer\"))\n",
    "consumer_thread = threading.Thread(target=consumer, args=(q, \"Consumer\"))\n",
    "\n",
    "producer_thread.start()\n",
    "consumer_thread.start()\n",
    "\n",
    "producer_thread.join()\n",
    "consumer_thread.join()\n",
    "```\n"
   ]
  },
  {
   "cell_type": "markdown",
   "metadata": {},
   "source": [
    "### 6_thread_event.py\n",
    "\n",
    "-  Start event : event = threading.Event()\n",
    "-  event flag is clear. Block all operation.\n",
    "-  wait and block.\n",
    "-  set event. clear -> set.\n",
    "```(python, eval= False)\n",
    "event = threading.Event()\n",
    "def waiter(name):\n",
    "    event.wait()\n",
    "\n",
    "def setter():\n",
    "    event.set()\n",
    "\n",
    "waiter_thread = threading.Thread(target=waiter, args=(\"Waiter\",))\n",
    "setter_thread = threading.Thread(target=setter)\n",
    "\n",
    "waiter_thread.start()\n",
    "setter_thread.start()\n",
    "\n",
    "waiter_thread.join()\n",
    "setter_thread.join()\n",
    "\n",
    "```\n"
   ]
  },
  {
   "cell_type": "markdown",
   "metadata": {},
   "source": [
    "### 7_thread_pool.py\n",
    "\n",
    "Threadpool executor can be used to submit task.\n",
    "\n",
    "```(python, eval= False)\n",
    "def task(args):\n",
    "    do something\n",
    "\n",
    "with ThreadPoolExecutor(max_workers=3) as executor:\n",
    "    futures = [executor.submit(task, args) for i in range(5)]\n",
    "    for future in futures:\n",
    "        result = future.result()\n",
    "```\n"
   ]
  },
  {
   "cell_type": "markdown",
   "metadata": {},
   "source": [
    "### 8_web_scrapping.py\n",
    "\n",
    "```(python, eval= False)\n",
    "while True:\n",
    "    url = queue.get()\n",
    "    if url is None:\n",
    "        break     \n",
    "    result = fetch_url(url)   \n",
    "    with lock:\n",
    "        results.append(result)\n",
    "\n",
    "url_queue = Queue()\n",
    "for url in urls:\n",
    "    url_queue.put(url)\n",
    "```"
   ]
  },
  {
   "cell_type": "markdown",
   "metadata": {},
   "source": [
    "### 9_threadpool_webscraping\n",
    "utils:\n",
    "#### fetch_url\n",
    "\n",
    "\n",
    "1. basic web scrapping\n",
    "```(python, eval=False)\n",
    "with ThreadPoolExecutor(max_workers=max_workers) as executor:\n",
    "    results = list(executor.map(fetch_url, urls))\n",
    "```\n",
    "\n",
    "2. Advanced scrapping\n",
    "```(python, eval = False)\n",
    "with ThreadPoolExecutor(max_workers=max_workers) as executor:\n",
    "    future_to_url = { executor.submit(fetch_url, url, timeout): url\n",
    "                         for url in urls}\n",
    "    for future in as_completed(future_to_url):\n",
    "        url = future_to_url[future]\n",
    "        try:\n",
    "            result = future.result()\n",
    "            results.append(result)\n",
    "\n",
    "```\n"
   ]
  }
 ],
 "metadata": {
  "language_info": {
   "name": "python"
  }
 },
 "nbformat": 4,
 "nbformat_minor": 2
}
