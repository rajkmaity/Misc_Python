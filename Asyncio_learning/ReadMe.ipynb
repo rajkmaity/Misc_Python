{
 "cells": [
  {
   "cell_type": "markdown",
   "metadata": {},
   "source": [
    "# Asyncio:\n",
    "This is a technique used in I/O intensive coding. API calls, network requests etc where concurrency is required.  "
   ]
  },
  {
   "cell_type": "markdown",
   "metadata": {},
   "source": [
    "### 1_basic.py\n",
    "\n",
    "A simple idea is to \n",
    "1. Write all the funtions with async: async def foo():\n",
    "2. Call the function with await foo()\n",
    "3. Run the async with asyncio.run(foo())\n"
   ]
  },
  {
   "cell_type": "markdown",
   "metadata": {
    "vscode": {
     "languageId": "raw"
    }
   },
   "source": [
    "### 2_aiohttp.py\n",
    "It is a basic idea for http call.\n",
    "1. Create a (one) session with : async with aiohttp.ClientSession() as session:\n",
    "2. Do the get call with async with session.get(url) as response:\n",
    "Also focus on the fact that everything in async:\n",
    "```{python, tidy=FALSE, eval=FALSE, highlight=FALSE }\n",
    "\n",
    "    async def basic_aiohttp_session(): \n",
    "            async with aiohttp.ClientSession() as session: \n",
    "                async with session.get(url) as response: \n",
    "                    result = await response.json() \n",
    "                    ```"
   ]
  },
  {
   "cell_type": "markdown",
   "metadata": {},
   "source": [
    "### 3_multiple_request.py\n",
    "\n",
    "Similar to the previous one. Just be careful how to use the list\n",
    "```{python, tidy=FALSE, eval=FALSE, highlight=FALSE }\n",
    "async with aiohttp.ClientSession() as session:\n",
    "        results = []\n",
    "        for url in urls:\n",
    "            async with session.get(url) as response:\n",
    "                results.append(await response.json())\n",
    "            ```"
   ]
  },
  {
   "cell_type": "markdown",
   "metadata": {},
   "source": [
    "### 4_semaphore_multi.py\n",
    "Use of semaphore limit the number of concurrent process.\n",
    "\n",
    "1. Start the session and semaphore \n",
    "  ```{python, tidy=FALSE, eval=FALSE, highlight=FALSE }\n",
    "    semaphore = asyncio.Semaphore(3)\n",
    "    async with aiohttp.ClientSession() as session:\n",
    "        tasks = [\n",
    "            asyncio.create_task(fetch_with_semaphore(session, semaphore, url))\n",
    "            for url in urls\n",
    "        ]\n",
    "        results = await asyncio.gather(*tasks)\n",
    "  ```\n",
    "2.  Notice the 'create_task(function(args)) and gather to start all the process.\n",
    "\n",
    "3. Now the structure to use the semaphore \n",
    "```{python, tidy=FALSE, eval=FALSE, highlight=FALSE }\n",
    "async def fetch_with_semaphore(session: aiohttp.ClientSession,\n",
    "                              semaphore: asyncio.Semaphore,\n",
    "                              url: str) -> Dict[str, Any]:\n",
    "  \n",
    "    async with semaphore:  \n",
    "        try:\n",
    "            async with session.get(url) as response:\n",
    "                data = await response.json()\n",
    "\n",
    "```"
   ]
  },
  {
   "cell_type": "markdown",
   "metadata": {},
   "source": [
    "### 5_web_scrapper.py\n",
    "\n",
    "Same as before, with fetch_with_retry\n",
    "\n",
    "```{python, tidy=FALSE, eval=FALSE, highlight=FALSE }\n",
    "async def fetch_with_retry(session: aiohttp.ClientSession,\n",
    "                               semaphore: asyncio.Semaphore,\n",
    "                               url: str,\n",
    "                               max_retries: int = 3) -> Dict[str, Any]:\n",
    "    async with semaphore:\n",
    "        for attempt in range(max_retries):\n",
    "            try:\n",
    "                timeout = aiohttp.ClientTimeout(total=20)\n",
    "                async with session.get(url, timeout=timeout) as response:\n",
    "                    ......\n",
    "\n",
    "semaphore = asyncio.Semaphore(2)  \n",
    "    async with aiohttp.ClientSession() as session:\n",
    "        tasks = [\n",
    "            asyncio.create_task(fetch_with_retry(session, semaphore, url))\n",
    "            for url in urls\n",
    "        ]\n",
    "        results = await asyncio.gather(*tasks,return_exceptions=True)\n",
    "\n",
    "```\n",
    "\n"
   ]
  },
  {
   "cell_type": "markdown",
   "metadata": {},
   "source": [
    "### 6_api_aggregator.py\n",
    "\n",
    "api aggregator with fetch http."
   ]
  },
  {
   "cell_type": "markdown",
   "metadata": {},
   "source": [
    "### 7_performance.py\n",
    "\n",
    "Compare the tasks with sync and async calls.\n",
    "\n",
    "=== Performance Comparison ===\n",
    "Performance: 5 URLs in 2.39s\n",
    "Starting synchronous version (this will block)...\n",
    "Synchronous version took 11.91s\n"
   ]
  },
  {
   "cell_type": "markdown",
   "metadata": {},
   "source": []
  }
 ],
 "metadata": {
  "language_info": {
   "name": "python"
  }
 },
 "nbformat": 4,
 "nbformat_minor": 2
}
