{
 "cells": [
  {
   "cell_type": "markdown",
   "metadata": {},
   "source": [
    "# Asyncio:\n",
    "This is a technique used in I/O intensive coding. API calls, network requests etc where concurrency is required.  "
   ]
  },
  {
   "cell_type": "markdown",
   "metadata": {},
   "source": [
    "### 1_basic.py\n",
    "\n",
    "A simple idea is to \n",
    "1. Write all the funtions with async: async def foo():\n",
    "2. Call the function with await foo()\n",
    "3. Run the async with asyncio.run(foo())\n"
   ]
  },
  {
   "cell_type": "markdown",
   "metadata": {
    "vscode": {
     "languageId": "raw"
    }
   },
   "source": [
    "### 2_aiohttp.py\n",
    "It is a basic idea for http call.\n",
    "1. Create a (one) session with : async with aiohttp.ClientSession() as session:\n",
    "2. Do the get call with async with session.get(url) as response:\n",
    "Also focus on the fact that everything in async:\n",
    "```{python, tidy=FALSE, eval=FALSE, highlight=FALSE }\n",
    "\n",
    "    async def basic_aiohttp_session(): \n",
    "            async with aiohttp.ClientSession() as session: \n",
    "                async with session.get(url) as response: \n",
    "                    result = await response.json() \n",
    "                    ```"
   ]
  },
  {
   "cell_type": "markdown",
   "metadata": {},
   "source": []
  }
 ],
 "metadata": {
  "language_info": {
   "name": "python"
  }
 },
 "nbformat": 4,
 "nbformat_minor": 2
}
